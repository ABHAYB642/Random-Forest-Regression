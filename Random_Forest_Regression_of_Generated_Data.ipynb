{
  "nbformat": 4,
  "nbformat_minor": 0,
  "metadata": {
    "colab": {
      "name": "Random Forest Regression of Generated Data.ipynb",
      "provenance": [],
      "collapsed_sections": [],
      "authorship_tag": "ABX9TyNjO8DWXl1uHb4R25lilwhZ",
      "include_colab_link": true
    },
    "kernelspec": {
      "name": "python3",
      "display_name": "Python 3"
    },
    "language_info": {
      "name": "python"
    }
  },
  "cells": [
    {
      "cell_type": "markdown",
      "metadata": {
        "id": "view-in-github",
        "colab_type": "text"
      },
      "source": [
        "<a href=\"https://colab.research.google.com/github/ABHAYB642/Random-Forest-Regression/blob/main/Random_Forest_Regression_of_Generated_Data.ipynb\" target=\"_parent\"><img src=\"https://colab.research.google.com/assets/colab-badge.svg\" alt=\"Open In Colab\"/></a>"
      ]
    },
    {
      "cell_type": "markdown",
      "source": [
        " **ABHAY BIRAMANE**\n",
        "# RANDOM FOREST REGRESSION OF GENERATED DATA"
      ],
      "metadata": {
        "id": "aAdz6JKf2cE2"
      }
    },
    {
      "cell_type": "markdown",
      "source": [
        "### IMPORT LIBRARY"
      ],
      "metadata": {
        "id": "AxPXDyJD2tPl"
      }
    },
    {
      "cell_type": "code",
      "source": [
        "import pandas as pd\n",
        "import numpy as np\n",
        "import matplotlib.pyplot as plt"
      ],
      "metadata": {
        "id": "-7K_9oFj2vyf"
      },
      "execution_count": null,
      "outputs": []
    },
    {
      "cell_type": "markdown",
      "source": [
        "### Generate Dataset"
      ],
      "metadata": {
        "id": "e4r8meq-3PCh"
      }
    },
    {
      "cell_type": "code",
      "source": [
        "from sklearn.datasets import make_regression"
      ],
      "metadata": {
        "id": "SdfdGXXe3M-k"
      },
      "execution_count": null,
      "outputs": []
    },
    {
      "cell_type": "code",
      "source": [
        "#without coefficient of underline model\n",
        "x,y=make_regression(n_samples=500,n_features=5,coef=False,bias=12,noise=10,random_state=2529)"
      ],
      "metadata": {
        "id": "2cFUNJlb3U9l"
      },
      "execution_count": null,
      "outputs": []
    },
    {
      "cell_type": "code",
      "source": [
        "#with coefficient of underline model\n",
        "x,y,w=make_regression(n_samples=500,n_features=5,coef=True,bias=12,noise=10,random_state=2529)"
      ],
      "metadata": {
        "id": "-M_Tp9E73WMt"
      },
      "execution_count": null,
      "outputs": []
    },
    {
      "cell_type": "code",
      "source": [
        "x.shape,y.shape"
      ],
      "metadata": {
        "colab": {
          "base_uri": "https://localhost:8080/"
        },
        "id": "UXUsOjD83c8V",
        "outputId": "0a91d197-5860-4965-e244-7148a1c1f80a"
      },
      "execution_count": null,
      "outputs": [
        {
          "output_type": "execute_result",
          "data": {
            "text/plain": [
              "((500, 5), (500,))"
            ]
          },
          "metadata": {},
          "execution_count": 5
        }
      ]
    },
    {
      "cell_type": "code",
      "source": [
        "w #with coefficient of x"
      ],
      "metadata": {
        "colab": {
          "base_uri": "https://localhost:8080/"
        },
        "id": "2OSS24Kx3ee5",
        "outputId": "3e2cbf45-a97c-46a4-e9ed-da2bf58f3ddc"
      },
      "execution_count": null,
      "outputs": [
        {
          "output_type": "execute_result",
          "data": {
            "text/plain": [
              "array([29.45661718, 60.14529878, 61.7409438 , 13.32437893, 99.08122896])"
            ]
          },
          "metadata": {},
          "execution_count": 6
        }
      ]
    },
    {
      "cell_type": "code",
      "source": [
        "x.shape,y.shape"
      ],
      "metadata": {
        "colab": {
          "base_uri": "https://localhost:8080/"
        },
        "id": "4MPPRKUB3hw1",
        "outputId": "6668af9d-1c9d-4f72-caa0-51815573c75d"
      },
      "execution_count": null,
      "outputs": [
        {
          "output_type": "execute_result",
          "data": {
            "text/plain": [
              "((500, 5), (500,))"
            ]
          },
          "metadata": {},
          "execution_count": 7
        }
      ]
    },
    {
      "cell_type": "markdown",
      "source": [
        "### Get First Five Rows of Target Variable y and Feature X"
      ],
      "metadata": {
        "id": "WgCbx91O3qBu"
      }
    },
    {
      "cell_type": "code",
      "source": [
        "x[0:5]"
      ],
      "metadata": {
        "colab": {
          "base_uri": "https://localhost:8080/"
        },
        "id": "G2h-l0nI3rdm",
        "outputId": "14c3c209-a301-4872-bb03-6f275427bb77"
      },
      "execution_count": null,
      "outputs": [
        {
          "output_type": "execute_result",
          "data": {
            "text/plain": [
              "array([[ 0.77913208, -1.09701784, -0.14239962,  1.02427891, -1.0708024 ],\n",
              "       [-0.6925009 ,  0.45535977,  0.34707569, -0.32456746,  0.21970203],\n",
              "       [-0.03901601, -0.3265115 ,  0.59793721,  0.61686653, -0.6237489 ],\n",
              "       [-0.61566117, -0.11782129, -0.98234619, -0.78292727,  0.42713048],\n",
              "       [ 1.30822207, -0.72541559,  0.60187975,  0.33285998,  1.48506184]])"
            ]
          },
          "metadata": {},
          "execution_count": 8
        }
      ]
    },
    {
      "cell_type": "code",
      "source": [
        "y[0:5]"
      ],
      "metadata": {
        "colab": {
          "base_uri": "https://localhost:8080/"
        },
        "id": "1Fx_YDCv3vCN",
        "outputId": "db98ad34-c4c9-4af1-8578-1823577664a7"
      },
      "execution_count": null,
      "outputs": [
        {
          "output_type": "execute_result",
          "data": {
            "text/plain": [
              "array([-136.21858395,   49.83118244,  -29.81097858,  -31.74001475,\n",
              "        193.0687778 ])"
            ]
          },
          "metadata": {},
          "execution_count": 9
        }
      ]
    },
    {
      "cell_type": "markdown",
      "source": [
        "### Get Shape of Dataframe"
      ],
      "metadata": {
        "id": "XR-oBo103y96"
      }
    },
    {
      "cell_type": "code",
      "source": [
        "x.shape,y.shape"
      ],
      "metadata": {
        "colab": {
          "base_uri": "https://localhost:8080/"
        },
        "id": "L9Aopqbs3z0O",
        "outputId": "4e0f7933-94fa-4f40-fd0c-02e1c660c92b"
      },
      "execution_count": null,
      "outputs": [
        {
          "output_type": "execute_result",
          "data": {
            "text/plain": [
              "((500, 5), (500,))"
            ]
          },
          "metadata": {},
          "execution_count": 10
        }
      ]
    },
    {
      "cell_type": "markdown",
      "source": [
        "### Get Train Test Split"
      ],
      "metadata": {
        "id": "cWif7-lF368l"
      }
    },
    {
      "cell_type": "code",
      "source": [
        "from sklearn.model_selection import train_test_split\n",
        "x_train,x_test,y_train,y_test=train_test_split(x,y,test_size=0.3,random_state=2529)\n",
        "x_train.shape,x_test.shape,y_train.shape,y_test.shape"
      ],
      "metadata": {
        "colab": {
          "base_uri": "https://localhost:8080/"
        },
        "id": "OT5Phfb43731",
        "outputId": "5fee9db6-52a9-48f4-9714-3f808e4d2e3d"
      },
      "execution_count": null,
      "outputs": [
        {
          "output_type": "execute_result",
          "data": {
            "text/plain": [
              "((350, 5), (150, 5), (350,), (150,))"
            ]
          },
          "metadata": {},
          "execution_count": 11
        }
      ]
    },
    {
      "cell_type": "markdown",
      "source": [
        "### Get Regression Model Train"
      ],
      "metadata": {
        "id": "l-la2Bwc4PJL"
      }
    },
    {
      "cell_type": "code",
      "source": [
        "from sklearn.ensemble import RandomForestRegressor\n",
        "model=RandomForestRegressor()"
      ],
      "metadata": {
        "id": "u3x7n5nB4WeY"
      },
      "execution_count": null,
      "outputs": []
    },
    {
      "cell_type": "code",
      "source": [
        "model.fit(x_train,y_train)"
      ],
      "metadata": {
        "colab": {
          "base_uri": "https://localhost:8080/"
        },
        "id": "W2c2o_w84viX",
        "outputId": "6cf00b1d-48e4-4f32-a9db-e4baf8d2745c"
      },
      "execution_count": null,
      "outputs": [
        {
          "output_type": "execute_result",
          "data": {
            "text/plain": [
              "RandomForestRegressor()"
            ]
          },
          "metadata": {},
          "execution_count": 15
        }
      ]
    },
    {
      "cell_type": "markdown",
      "source": [
        "### Get Model Prediction"
      ],
      "metadata": {
        "id": "2Bu-fNTD41SS"
      }
    },
    {
      "cell_type": "code",
      "source": [
        "y_pred=model.predict(x_test)"
      ],
      "metadata": {
        "id": "NUjkW5jJ42TT"
      },
      "execution_count": null,
      "outputs": []
    },
    {
      "cell_type": "code",
      "source": [
        "y_pred.shape"
      ],
      "metadata": {
        "colab": {
          "base_uri": "https://localhost:8080/"
        },
        "id": "gEpOciBx47qW",
        "outputId": "2c6271e4-25e7-4731-ef1d-2ae9adc7c1d8"
      },
      "execution_count": null,
      "outputs": [
        {
          "output_type": "execute_result",
          "data": {
            "text/plain": [
              "(150,)"
            ]
          },
          "metadata": {},
          "execution_count": 17
        }
      ]
    },
    {
      "cell_type": "code",
      "source": [
        "y_pred"
      ],
      "metadata": {
        "colab": {
          "base_uri": "https://localhost:8080/"
        },
        "id": "OgkeDKWv4-aP",
        "outputId": "bf855af2-a585-45c1-8417-e77b50e31b37"
      },
      "execution_count": null,
      "outputs": [
        {
          "output_type": "execute_result",
          "data": {
            "text/plain": [
              "array([ -22.41761417, -122.00589023,  -68.4760645 ,   62.65457558,\n",
              "       -223.9692037 ,  200.15400295,   56.07125653, -165.89671468,\n",
              "       -138.59120158,  -83.74877871,   85.47366197, -108.40995916,\n",
              "         80.87162124,   10.37423989, -243.62808208,  -75.12193968,\n",
              "         47.14633507,    1.78902582,   35.92403084,   57.73546214,\n",
              "        -46.24543302,  156.92107047,  148.71278495,   56.06828191,\n",
              "        149.99822817, -188.95149833,   -7.3292835 ,  -47.64916357,\n",
              "        -57.76682924,    9.25089476,  -74.26638925,   39.67899009,\n",
              "        179.66386749,  -53.67179669,   21.57437133,  162.6567828 ,\n",
              "         17.24415917,  113.88484826,   18.87001082,    7.36956566,\n",
              "         97.84061914,   35.86559311,  -38.62670736,  -18.70263598,\n",
              "         -9.24192281,   59.55347334,  -19.64593289, -212.83930779,\n",
              "       -150.32851656,    1.12294708,  -29.76387517,  -83.86223821,\n",
              "         63.12755335,   73.79696417,  -68.12419368,  182.98398414,\n",
              "        -26.06661111,  -12.89327994,   21.13962002,   16.50625986,\n",
              "        158.45086908, -211.08019604,  129.84971272, -117.38392112,\n",
              "        191.01210576, -111.52538626,   47.58618992,  101.14537178,\n",
              "        152.59161364,   71.55597925,   46.81462727,   30.08850294,\n",
              "        -78.89286204,  -89.31710982,  -31.02431848,  122.03038922,\n",
              "         96.56143437,  156.63197984,  158.19676758,   22.03568828,\n",
              "       -205.71775107,  113.32479101,   34.48759587,   86.35071391,\n",
              "        -14.58419262,   32.60098431, -103.26412873,   41.8041485 ,\n",
              "        110.469857  ,  140.79287833,  119.80138711,   64.90692898,\n",
              "         -4.55264087,  -28.16657986,   20.02178596,  -10.55190129,\n",
              "       -104.16248215,   91.67747019,  118.9842825 ,  106.1394557 ,\n",
              "        283.13614839,  -23.38391499,   -3.86973598, -195.73293965,\n",
              "        -69.72770897,  -78.34392706,  -12.23986851,  -14.8178095 ,\n",
              "         96.18920457,  123.24378625,  147.49530435,  101.82891096,\n",
              "        195.12454408,   36.31930787, -153.6794197 ,   -4.91490972,\n",
              "        -84.80471743,   38.61250717,  130.4957958 ,   11.09966255,\n",
              "        -24.56422377, -114.98698781,    3.79357313, -134.65250365,\n",
              "        -89.30798308,  173.05762608,   93.95361588,  208.14341923,\n",
              "        -28.04226154,  -60.19611004,  -37.30648559,  -46.24573937,\n",
              "         -7.39500431,  -89.61324097,  215.4199729 ,  -83.63516214,\n",
              "       -104.8483205 , -186.60558443,  142.47118841,  -86.75274217,\n",
              "        135.29344149, -198.60825493,   77.27318634,   23.03163114,\n",
              "       -148.79129343,   43.78359406,  169.86295308,    9.37657633,\n",
              "         26.71685011, -172.67023422])"
            ]
          },
          "metadata": {},
          "execution_count": 18
        }
      ]
    },
    {
      "cell_type": "markdown",
      "source": [
        "### Get Model Evaluation"
      ],
      "metadata": {
        "id": "ERiDraq95FdI"
      }
    },
    {
      "cell_type": "code",
      "source": [
        "from sklearn.metrics import mean_squared_error,mean_absolute_error, mean_absolute_percentage_error, r2_score"
      ],
      "metadata": {
        "id": "qcT798AS5GVX"
      },
      "execution_count": null,
      "outputs": []
    },
    {
      "cell_type": "code",
      "source": [
        "mean_squared_error(y_test,y_pred)"
      ],
      "metadata": {
        "colab": {
          "base_uri": "https://localhost:8080/"
        },
        "id": "iwWlfnHn5Klc",
        "outputId": "cf8394cb-5dd9-4616-f432-b488f657db68"
      },
      "execution_count": null,
      "outputs": [
        {
          "output_type": "execute_result",
          "data": {
            "text/plain": [
              "1396.033534032397"
            ]
          },
          "metadata": {},
          "execution_count": 20
        }
      ]
    },
    {
      "cell_type": "code",
      "source": [
        "mean_absolute_percentage_error(y_test,y_pred)"
      ],
      "metadata": {
        "colab": {
          "base_uri": "https://localhost:8080/"
        },
        "id": "EYid-wF95NS5",
        "outputId": "b0f683d6-527a-4a25-f421-1105fd63fc1c"
      },
      "execution_count": null,
      "outputs": [
        {
          "output_type": "execute_result",
          "data": {
            "text/plain": [
              "1.017922214038592"
            ]
          },
          "metadata": {},
          "execution_count": 21
        }
      ]
    },
    {
      "cell_type": "code",
      "source": [
        "mean_absolute_error(y_test,y_pred)"
      ],
      "metadata": {
        "colab": {
          "base_uri": "https://localhost:8080/"
        },
        "id": "ffGYTtPi5PKd",
        "outputId": "8ea5ebf0-14fb-4632-faca-bac04026e7f5"
      },
      "execution_count": null,
      "outputs": [
        {
          "output_type": "execute_result",
          "data": {
            "text/plain": [
              "26.893139267041093"
            ]
          },
          "metadata": {},
          "execution_count": 22
        }
      ]
    },
    {
      "cell_type": "code",
      "source": [
        "r2_score(y_test,y_pred)"
      ],
      "metadata": {
        "colab": {
          "base_uri": "https://localhost:8080/"
        },
        "id": "nM6v2Qry5WyT",
        "outputId": "8b0fa92b-9a20-413a-dc5f-f5ced223950c"
      },
      "execution_count": null,
      "outputs": [
        {
          "output_type": "execute_result",
          "data": {
            "text/plain": [
              "0.9164258612676994"
            ]
          },
          "metadata": {},
          "execution_count": 23
        }
      ]
    },
    {
      "cell_type": "markdown",
      "source": [
        "### HyperParameter Tunning : Grid Search"
      ],
      "metadata": {
        "id": "_5rlH3-H5cQi"
      }
    },
    {
      "cell_type": "code",
      "source": [
        "from sklearn.model_selection import GridSearchCV\n",
        "Parameters={'n_estimators':[10,20,30,100,500],'max_features':['auto','sqrt'],'min_samples_split':[4,8],'bootstrap':['True','False']}\n",
        "gridsearch=GridSearchCV(RandomForestRegressor(),Parameters)\n",
        "gridsearch.fit(x_train,y_train)"
      ],
      "metadata": {
        "colab": {
          "base_uri": "https://localhost:8080/"
        },
        "id": "7ONeK-k35kyy",
        "outputId": "0c3728f2-36e2-4404-9115-a07b625e847d"
      },
      "execution_count": null,
      "outputs": [
        {
          "output_type": "execute_result",
          "data": {
            "text/plain": [
              "GridSearchCV(estimator=RandomForestRegressor(),\n",
              "             param_grid={'bootstrap': ['True', 'False'],\n",
              "                         'max_features': ['auto', 'sqrt'],\n",
              "                         'min_samples_split': [4, 8],\n",
              "                         'n_estimators': [10, 20, 30, 100, 500]})"
            ]
          },
          "metadata": {},
          "execution_count": 26
        }
      ]
    },
    {
      "cell_type": "code",
      "source": [
        "gridsearch.best_params_\n",
        "{'bootstrap':True,'max_features':'auto','min_samples_split': 4,'n_estimators': 200}"
      ],
      "metadata": {
        "colab": {
          "base_uri": "https://localhost:8080/"
        },
        "id": "R9f8AVMC7dHs",
        "outputId": "9c5dc067-ed96-4d77-a966-c607a9bd9526"
      },
      "execution_count": null,
      "outputs": [
        {
          "output_type": "execute_result",
          "data": {
            "text/plain": [
              "{'bootstrap': True,\n",
              " 'max_features': 'auto',\n",
              " 'min_samples_split': 4,\n",
              " 'n_estimators': 200}"
            ]
          },
          "metadata": {},
          "execution_count": 29
        }
      ]
    },
    {
      "cell_type": "code",
      "source": [
        "gridsearch.best_score_"
      ],
      "metadata": {
        "colab": {
          "base_uri": "https://localhost:8080/"
        },
        "id": "H8K0dkAo8Qq7",
        "outputId": "da1cbd81-94cd-43c7-f65e-96cd2cfaf802"
      },
      "execution_count": null,
      "outputs": [
        {
          "output_type": "execute_result",
          "data": {
            "text/plain": [
              "0.8996908729376953"
            ]
          },
          "metadata": {},
          "execution_count": 30
        }
      ]
    },
    {
      "cell_type": "code",
      "source": [
        "gridsearch.best_estimator_"
      ],
      "metadata": {
        "colab": {
          "base_uri": "https://localhost:8080/"
        },
        "id": "JAyAXOhl8RZb",
        "outputId": "8b5651cd-7f06-41d9-c05b-b6d93d343ed6"
      },
      "execution_count": null,
      "outputs": [
        {
          "output_type": "execute_result",
          "data": {
            "text/plain": [
              "RandomForestRegressor(bootstrap='True', min_samples_split=4, n_estimators=500)"
            ]
          },
          "metadata": {},
          "execution_count": 31
        }
      ]
    },
    {
      "cell_type": "code",
      "source": [
        "gridsearch.best_index_"
      ],
      "metadata": {
        "colab": {
          "base_uri": "https://localhost:8080/"
        },
        "id": "utV-epDl8SC_",
        "outputId": "cf1f794e-e44b-4712-99b2-dc05d6a2be59"
      },
      "execution_count": null,
      "outputs": [
        {
          "output_type": "execute_result",
          "data": {
            "text/plain": [
              "4"
            ]
          },
          "metadata": {},
          "execution_count": 32
        }
      ]
    },
    {
      "cell_type": "code",
      "source": [
        "y_pred_grid=gridsearch.predict(x_test)"
      ],
      "metadata": {
        "id": "FZt7Na6r8daP"
      },
      "execution_count": null,
      "outputs": []
    },
    {
      "cell_type": "code",
      "source": [
        "mean_absolute_error(y_test,y_pred_grid)"
      ],
      "metadata": {
        "colab": {
          "base_uri": "https://localhost:8080/"
        },
        "id": "qTsVKaQS8r21",
        "outputId": "945530ef-c83c-4461-951b-215a077577d3"
      },
      "execution_count": null,
      "outputs": [
        {
          "output_type": "execute_result",
          "data": {
            "text/plain": [
              "26.853686717749166"
            ]
          },
          "metadata": {},
          "execution_count": 34
        }
      ]
    },
    {
      "cell_type": "code",
      "source": [
        "r2_score(y_test,y_pred_grid)"
      ],
      "metadata": {
        "colab": {
          "base_uri": "https://localhost:8080/"
        },
        "id": "mA0VMoL28yDH",
        "outputId": "a9f8c172-da80-42ec-ae3d-414b9e8d727c"
      },
      "execution_count": null,
      "outputs": [
        {
          "output_type": "execute_result",
          "data": {
            "text/plain": [
              "0.9158557530549318"
            ]
          },
          "metadata": {},
          "execution_count": 35
        }
      ]
    },
    {
      "cell_type": "code",
      "source": [
        "from google.colab import drive\n",
        "drive.mount('/content/drive')"
      ],
      "metadata": {
        "colab": {
          "base_uri": "https://localhost:8080/"
        },
        "id": "E6be0k3q9fUu",
        "outputId": "14c869c1-ef67-464f-fd63-a8c6dbe0bf5d"
      },
      "execution_count": null,
      "outputs": [
        {
          "output_type": "stream",
          "name": "stdout",
          "text": [
            "Mounted at /content/drive\n"
          ]
        }
      ]
    },
    {
      "cell_type": "code",
      "source": [
        "%%capture\n",
        "!wget -nc https://raw.githubusercontent.com/brpy/colab-pdf/master/colab_pdf.py\n",
        "from colab_pdf import colab_pdf"
      ],
      "metadata": {
        "id": "S24X2xRo9lEg"
      },
      "execution_count": null,
      "outputs": []
    },
    {
      "cell_type": "code",
      "source": [
        "colab_pdf('Random Forest Regression of Generated Data.ipynb')"
      ],
      "metadata": {
        "colab": {
          "base_uri": "https://localhost:8080/",
          "height": 278
        },
        "id": "qbTtldPD9nQd",
        "outputId": "cddc48ee-771d-4c22-bd0a-e34ec22558e9"
      },
      "execution_count": null,
      "outputs": [
        {
          "output_type": "stream",
          "name": "stdout",
          "text": [
            "\n",
            "WARNING: apt does not have a stable CLI interface. Use with caution in scripts.\n",
            "\n",
            "\n",
            "WARNING: apt does not have a stable CLI interface. Use with caution in scripts.\n",
            "\n",
            "[NbConvertApp] Converting notebook /content/drive/MyDrive/Colab Notebooks/Random Forest Regression of Generated Data.ipynb to pdf\n",
            "[NbConvertApp] Writing 44949 bytes to ./notebook.tex\n",
            "[NbConvertApp] Building PDF\n",
            "[NbConvertApp] Running xelatex 3 times: ['xelatex', './notebook.tex', '-quiet']\n",
            "[NbConvertApp] Running bibtex 1 time: ['bibtex', './notebook']\n",
            "[NbConvertApp] WARNING | bibtex had problems, most likely because there were no citations\n",
            "[NbConvertApp] PDF successfully created\n",
            "[NbConvertApp] Writing 47155 bytes to /content/drive/My Drive/Random Forest Regression of Generated Data.pdf\n"
          ]
        },
        {
          "output_type": "display_data",
          "data": {
            "text/plain": [
              "<IPython.core.display.Javascript object>"
            ],
            "application/javascript": [
              "\n",
              "    async function download(id, filename, size) {\n",
              "      if (!google.colab.kernel.accessAllowed) {\n",
              "        return;\n",
              "      }\n",
              "      const div = document.createElement('div');\n",
              "      const label = document.createElement('label');\n",
              "      label.textContent = `Downloading \"${filename}\": `;\n",
              "      div.appendChild(label);\n",
              "      const progress = document.createElement('progress');\n",
              "      progress.max = size;\n",
              "      div.appendChild(progress);\n",
              "      document.body.appendChild(div);\n",
              "\n",
              "      const buffers = [];\n",
              "      let downloaded = 0;\n",
              "\n",
              "      const channel = await google.colab.kernel.comms.open(id);\n",
              "      // Send a message to notify the kernel that we're ready.\n",
              "      channel.send({})\n",
              "\n",
              "      for await (const message of channel.messages) {\n",
              "        // Send a message to notify the kernel that we're ready.\n",
              "        channel.send({})\n",
              "        if (message.buffers) {\n",
              "          for (const buffer of message.buffers) {\n",
              "            buffers.push(buffer);\n",
              "            downloaded += buffer.byteLength;\n",
              "            progress.value = downloaded;\n",
              "          }\n",
              "        }\n",
              "      }\n",
              "      const blob = new Blob(buffers, {type: 'application/binary'});\n",
              "      const a = document.createElement('a');\n",
              "      a.href = window.URL.createObjectURL(blob);\n",
              "      a.download = filename;\n",
              "      div.appendChild(a);\n",
              "      a.click();\n",
              "      div.remove();\n",
              "    }\n",
              "  "
            ]
          },
          "metadata": {}
        },
        {
          "output_type": "display_data",
          "data": {
            "text/plain": [
              "<IPython.core.display.Javascript object>"
            ],
            "application/javascript": [
              "download(\"download_c9787824-5c81-48cf-aa8d-a47b01fd8e32\", \"Random Forest Regression of Generated Data.pdf\", 47155)"
            ]
          },
          "metadata": {}
        },
        {
          "output_type": "execute_result",
          "data": {
            "text/plain": [
              "'File ready to be Downloaded and Saved to Drive'"
            ],
            "application/vnd.google.colaboratory.intrinsic+json": {
              "type": "string"
            }
          },
          "metadata": {},
          "execution_count": 39
        }
      ]
    }
  ]
}